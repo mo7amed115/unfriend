{
 "cells": [
  {
   "cell_type": "code",
   "execution_count": 1,
   "id": "21b331d5",
   "metadata": {},
   "outputs": [],
   "source": [
    "# importing libraries\n",
    "\n",
    "from selenium import webdriver\n",
    "from selenium.webdriver.common.keys import Keys\n",
    "import time\n",
    "import warnings"
   ]
  },
  {
   "cell_type": "code",
   "execution_count": 2,
   "id": "5b02d7e2",
   "metadata": {},
   "outputs": [],
   "source": [
    "import warnings\n",
    "warnings.filterwarnings('ignore')"
   ]
  },
  {
   "cell_type": "code",
   "execution_count": 3,
   "id": "6ce1b896",
   "metadata": {},
   "outputs": [],
   "source": [
    "# chrome driver path\n",
    "chromepath = r\"E:\\Career\\web_scraping\\New folder\\chromedriver_win32\\chromedriver.exe\"\n"
   ]
  },
  {
   "cell_type": "code",
   "execution_count": 4,
   "id": "542e98f8",
   "metadata": {},
   "outputs": [],
   "source": [
    "# opening chrome driver session\n",
    "option = webdriver.ChromeOptions()\n",
    "option.add_argument(\"-disk-cache-size=30000000000\")\n",
    "\n",
    "#chrome\n",
    "driver = webdriver.Chrome(executable_path = chromepath)"
   ]
  },
  {
   "cell_type": "code",
   "execution_count": 5,
   "id": "e1be3c85",
   "metadata": {},
   "outputs": [
    {
     "name": "stdout",
     "output_type": "stream",
     "text": [
      "enter Email address :write your account\n",
      "enter password :write password\n"
     ]
    }
   ],
   "source": [
    "# login to account\n",
    "driver.get(\"https://www.facebook.com/\")\n",
    "time.sleep(2)\n",
    "driver.maximize_window()\n",
    "# login face\n",
    "email = input(\"enter Email address :\")\n",
    "password = input(\"enter password :\")\n",
    "driver.find_element_by_id('email').send_keys(email)\n",
    "driver.find_element_by_id('pass').send_keys(password)\n",
    "bton = driver.find_element_by_name('login')\n",
    "bton.send_keys(Keys.ENTER)"
   ]
  },
  {
   "cell_type": "code",
   "execution_count": 6,
   "id": "3de0d4fd",
   "metadata": {},
   "outputs": [],
   "source": [
    "## define function conf to test and click confirm button\n",
    "def conf():\n",
    "    try:\n",
    "        confirm[5+i].click()\n",
    "    except:\n",
    "        try:\n",
    "            confirm[4+i].click()\n",
    "        except:\n",
    "            try:\n",
    "                confirm[3+i].click()\n",
    "            except:\n",
    "                try:\n",
    "                    confirm[2+i].click()\n",
    "                except:\n",
    "                    try:\n",
    "                        confirm[1+i].click()\n",
    "                    except:\n",
    "                        confirm[i].click()"
   ]
  },
  {
   "cell_type": "code",
   "execution_count": 7,
   "id": "e878b588",
   "metadata": {},
   "outputs": [
    {
     "name": "stdout",
     "output_type": "stream",
     "text": [
      "Enter all friend link : put your link \n"
     ]
    }
   ],
   "source": [
    "# defint the link :\n",
    "url = input(\"Enter all friend link : \")"
   ]
  },
  {
   "cell_type": "code",
   "execution_count": 8,
   "id": "761db225",
   "metadata": {
    "scrolled": true
   },
   "outputs": [
    {
     "name": "stdout",
     "output_type": "stream",
     "text": [
      "processing!!\n",
      "processing!!\n",
      "processing!!\n",
      "processing!!\n",
      "processing!!\n",
      "processing!!\n",
      "processing!!\n",
      "processing!!\n",
      "processing!!\n",
      "processing!!\n",
      "DONE.\n"
     ]
    }
   ],
   "source": [
    "for i in range(10):\n",
    "    \n",
    "    try:\n",
    "        driver.get(url)\n",
    "\n",
    "        for i in range(100):\n",
    "\n",
    "            btn = driver.find_elements_by_css_selector(\"div[aria-label='Friends']\")\n",
    "            for i in range(len(btn)):\n",
    "                time.sleep(1)\n",
    "                btn[i].click()\n",
    "                time.sleep(1)\n",
    "                unfriend = driver.find_elements_by_css_selector(\"div[class = 'oajrlxb2 g5ia77u1 qu0x051f esr5mh6w e9989ue4 r7d6kgcz p7hjln8o esuyzwwr f1sip0of n00je7tq arfg74bv qs9ysxi8 k77z8yql abiwlrkh p8dawk7l lzcic4wl dwo3fsh8 rq0escxv nhd2j8a9 j83agx80 btwxx1t3 pfnyh3mw opuu4ng7 kj2yoqh6 kvgmc6g5 oygrvhab l9j0dhe7 i1ao9s8h du4w35lb bp9cbjyn cxgpxx05 dflh9lhu sj5x9vvc scb9dxdr']\")\n",
    "                print(\"the unfriend in loop {} is = {}\".format(i,len(unfriend)))\n",
    "                if len(unfriend) == 4:\n",
    "                    unfriend[3].click()\n",
    "                    confirm = driver.find_elements_by_css_selector(\"div[class ='oajrlxb2 g5ia77u1 qu0x051f esr5mh6w e9989ue4 r7d6kgcz nhd2j8a9 p7hjln8o kvgmc6g5 cxmmr5t8 oygrvhab hcukyx3x jb3vyjys rz4wbd8a qt6c0cv9 a8nywdso i1ao9s8h esuyzwwr f1sip0of n00je7tq arfg74bv qs9ysxi8 k77z8yql abiwlrkh p8dawk7l lzcic4wl rq0escxv pq6dq46d cbu4d94t taijpn5t l9j0dhe7 k4urcfbm']\")\n",
    "                    print(\"the confirm in loop {} is = {}\".format(i,len(confirm)))\n",
    "                    conf()\n",
    "                elif len(unfriend) == 1:\n",
    "                    unfriend[0].click()\n",
    "                    confirm = driver.find_elements_by_css_selector(\"div[class ='oajrlxb2 g5ia77u1 qu0x051f esr5mh6w e9989ue4 r7d6kgcz nhd2j8a9 p7hjln8o kvgmc6g5 cxmmr5t8 oygrvhab hcukyx3x jb3vyjys rz4wbd8a qt6c0cv9 a8nywdso i1ao9s8h esuyzwwr f1sip0of n00je7tq arfg74bv qs9ysxi8 k77z8yql abiwlrkh p8dawk7l lzcic4wl rq0escxv pq6dq46d cbu4d94t taijpn5t l9j0dhe7 k4urcfbm']\")\n",
    "                    print(\"the confirm in loop {} is = {}\".format(i,len(confirm)))\n",
    "                    conf()\n",
    "                    continue\n",
    "            driver.get(url)\n",
    "            time.sleep(3)\n",
    "    except:\n",
    "        print(\"processing!!\")\n",
    "print (\"DONE.\")"
   ]
  },
  {
   "cell_type": "code",
   "execution_count": null,
   "id": "44ad1888",
   "metadata": {},
   "outputs": [],
   "source": []
  },
  {
   "cell_type": "code",
   "execution_count": null,
   "id": "045cc39d",
   "metadata": {},
   "outputs": [],
   "source": []
  }
 ],
 "metadata": {
  "kernelspec": {
   "display_name": "Python 3 (ipykernel)",
   "language": "python",
   "name": "python3"
  },
  "language_info": {
   "codemirror_mode": {
    "name": "ipython",
    "version": 3
   },
   "file_extension": ".py",
   "mimetype": "text/x-python",
   "name": "python",
   "nbconvert_exporter": "python",
   "pygments_lexer": "ipython3",
   "version": "3.9.7"
  }
 },
 "nbformat": 4,
 "nbformat_minor": 5
}
